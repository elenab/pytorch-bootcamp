{
 "cells": [
  {
   "cell_type": "code",
   "execution_count": 2,
   "metadata": {},
   "outputs": [],
   "source": [
    "import torch\n",
    "import torch.nn as nn\n",
    "from torch.autograd import Variable\n",
    "import numpy as np\n"
   ]
  },
  {
   "cell_type": "code",
   "execution_count": 3,
   "metadata": {},
   "outputs": [],
   "source": [
    "\n",
    "x_values = [i for i in range(11)]\n",
    "x_train = np.array(x_values, dtype=np.float32)\n",
    "x_train = x_train.reshape(-1, 1)\n",
    "\n",
    "y_values = [2*i + 1 for i in x_values]\n",
    "y_train = np.array(y_values, dtype=np.float32)\n",
    "y_train = y_train.reshape(-1, 1)\n"
   ]
  },
  {
   "cell_type": "code",
   "execution_count": 8,
   "metadata": {},
   "outputs": [],
   "source": [
    "\n",
    "class LinearRegressionModel(nn.Module):\n",
    "    def __init__(self, input_dim, output_dim):\n",
    "        super(LinearRegressionModel, self).__init__()\n",
    "        self.linear = nn.Linear(input_dim, output_dim)  \n",
    "    \n",
    "    def forward(self, x):\n",
    "        out = self.linear(x)\n",
    "        return out\n",
    "\n",
    "input_dim = 1\n",
    "output_dim = 1\n",
    "\n",
    "model = LinearRegressionModel(input_dim, output_dim)"
   ]
  },
  {
   "cell_type": "code",
   "execution_count": 10,
   "metadata": {},
   "outputs": [],
   "source": [
    "criterion = nn.MSELoss()\n",
    "learning_rate = 0.01\n",
    "optimizer = torch.optim.SGD(model.parameters(), lr=learning_rate)"
   ]
  },
  {
   "cell_type": "code",
   "execution_count": 12,
   "metadata": {},
   "outputs": [
    {
     "name": "stdout",
     "output_type": "stream",
     "text": [
      "epoch 1, loss 0.27641719579696655\n",
      "epoch 2, loss 0.2733305096626282\n",
      "epoch 3, loss 0.2702782154083252\n",
      "epoch 4, loss 0.26726004481315613\n",
      "epoch 5, loss 0.26427575945854187\n",
      "epoch 6, loss 0.26132461428642273\n",
      "epoch 7, loss 0.25840628147125244\n",
      "epoch 8, loss 0.2555205821990967\n",
      "epoch 9, loss 0.2526673972606659\n",
      "epoch 10, loss 0.24984604120254517\n",
      "epoch 11, loss 0.24705567955970764\n",
      "epoch 12, loss 0.24429698288440704\n",
      "epoch 13, loss 0.2415688931941986\n",
      "epoch 14, loss 0.23887135088443756\n",
      "epoch 15, loss 0.23620404303073883\n",
      "epoch 16, loss 0.2335663139820099\n",
      "epoch 17, loss 0.23095814883708954\n",
      "epoch 18, loss 0.22837910056114197\n",
      "epoch 19, loss 0.22582872211933136\n",
      "epoch 20, loss 0.22330696880817413\n",
      "epoch 21, loss 0.22081343829631805\n",
      "epoch 22, loss 0.21834735572338104\n",
      "epoch 23, loss 0.21590924263000488\n",
      "epoch 24, loss 0.21349826455116272\n",
      "epoch 25, loss 0.21111410856246948\n",
      "epoch 26, loss 0.20875684916973114\n",
      "epoch 27, loss 0.20642559230327606\n",
      "epoch 28, loss 0.20412059128284454\n",
      "epoch 29, loss 0.20184114575386047\n",
      "epoch 30, loss 0.19958709180355072\n",
      "epoch 31, loss 0.1973583996295929\n",
      "epoch 32, loss 0.19515465199947357\n",
      "epoch 33, loss 0.19297541677951813\n",
      "epoch 34, loss 0.19082032144069672\n",
      "epoch 35, loss 0.18868954479694366\n",
      "epoch 36, loss 0.18658237159252167\n",
      "epoch 37, loss 0.1844988763332367\n",
      "epoch 38, loss 0.18243862688541412\n",
      "epoch 39, loss 0.1804012656211853\n",
      "epoch 40, loss 0.17838679254055023\n",
      "epoch 41, loss 0.17639468610286713\n",
      "epoch 42, loss 0.1744251698255539\n",
      "epoch 43, loss 0.17247726023197174\n",
      "epoch 44, loss 0.17055125534534454\n",
      "epoch 45, loss 0.16864682734012604\n",
      "epoch 46, loss 0.16676360368728638\n",
      "epoch 47, loss 0.16490118205547333\n",
      "epoch 48, loss 0.16305984556674957\n",
      "epoch 49, loss 0.16123904287815094\n",
      "epoch 50, loss 0.15943847596645355\n",
      "epoch 51, loss 0.15765780210494995\n",
      "epoch 52, loss 0.1558973789215088\n",
      "epoch 53, loss 0.15415659546852112\n",
      "epoch 54, loss 0.1524350941181183\n",
      "epoch 55, loss 0.15073280036449432\n",
      "epoch 56, loss 0.1490495651960373\n",
      "epoch 57, loss 0.1473851501941681\n",
      "epoch 58, loss 0.14573955535888672\n",
      "epoch 59, loss 0.14411205053329468\n",
      "epoch 60, loss 0.14250291883945465\n",
      "epoch 61, loss 0.14091157913208008\n",
      "epoch 62, loss 0.13933785259723663\n",
      "epoch 63, loss 0.13778196275234222\n",
      "epoch 64, loss 0.13624334335327148\n",
      "epoch 65, loss 0.13472193479537964\n",
      "epoch 66, loss 0.1332174837589264\n",
      "epoch 67, loss 0.13172991573810577\n",
      "epoch 68, loss 0.13025885820388794\n",
      "epoch 69, loss 0.12880423665046692\n",
      "epoch 70, loss 0.12736599147319794\n",
      "epoch 71, loss 0.12594367563724518\n",
      "epoch 72, loss 0.12453748285770416\n",
      "epoch 73, loss 0.12314675748348236\n",
      "epoch 74, loss 0.12177164107561111\n",
      "epoch 75, loss 0.12041168659925461\n",
      "epoch 76, loss 0.11906688660383224\n",
      "epoch 77, loss 0.11773734539747238\n",
      "epoch 78, loss 0.11642275750637054\n",
      "epoch 79, loss 0.11512254178524017\n",
      "epoch 80, loss 0.11383713036775589\n",
      "epoch 81, loss 0.11256574094295502\n",
      "epoch 82, loss 0.11130887269973755\n",
      "epoch 83, loss 0.11006581038236618\n",
      "epoch 84, loss 0.10883692651987076\n",
      "epoch 85, loss 0.10762136429548264\n",
      "epoch 86, loss 0.1064196303486824\n",
      "epoch 87, loss 0.10523119568824768\n",
      "epoch 88, loss 0.10405628383159637\n",
      "epoch 89, loss 0.10289423167705536\n",
      "epoch 90, loss 0.10174522548913956\n",
      "epoch 91, loss 0.10060897469520569\n",
      "epoch 92, loss 0.09948553144931793\n",
      "epoch 93, loss 0.09837455302476883\n",
      "epoch 94, loss 0.09727614372968674\n",
      "epoch 95, loss 0.09618975222110748\n",
      "epoch 96, loss 0.095115527510643\n",
      "epoch 97, loss 0.09405356645584106\n",
      "epoch 98, loss 0.09300316125154495\n",
      "epoch 99, loss 0.09196466207504272\n",
      "epoch 100, loss 0.09093766659498215\n"
     ]
    },
    {
     "name": "stderr",
     "output_type": "stream",
     "text": [
      "/anaconda3/lib/python3.6/site-packages/ipykernel_launcher.py:25: UserWarning: invalid index of a 0-dim tensor. This will be an error in PyTorch 0.5. Use tensor.item() to convert a 0-dim tensor to a Python number\n"
     ]
    }
   ],
   "source": [
    "epochs = 100\n",
    "for epoch in range(epochs):\n",
    "    epoch += 1\n",
    "    # Convert numpy array to torch Variable\n",
    "\n",
    "    inputs = Variable(torch.from_numpy(x_train))\n",
    "    labels = Variable(torch.from_numpy(y_train))\n",
    "        \n",
    "    # Clear gradients w.r.t. parameters\n",
    "    optimizer.zero_grad() \n",
    "    \n",
    "    # Forward to get output\n",
    "    outputs = model(inputs)\n",
    "    \n",
    "    # Calculate Loss\n",
    "    loss = criterion(outputs, labels)\n",
    "    \n",
    "    # Getting gradients w.r.t. parameters\n",
    "    loss.backward()\n",
    "    \n",
    "    # Updating parameters\n",
    "    optimizer.step()\n",
    "    \n",
    "    # Logging\n",
    "    print('epoch {}, loss {}'.format(epoch, loss.data[0]))"
   ]
  },
  {
   "cell_type": "code",
   "execution_count": 15,
   "metadata": {},
   "outputs": [
    {
     "name": "stdout",
     "output_type": "stream",
     "text": [
      "tensor(0.0909, grad_fn=<MseLossBackward>)\n"
     ]
    }
   ],
   "source": [
    "print(loss)"
   ]
  },
  {
   "cell_type": "code",
   "execution_count": 16,
   "metadata": {},
   "outputs": [
    {
     "data": {
      "text/plain": [
       "array([[ 0.4390395],\n",
       "       [ 2.5198228],\n",
       "       [ 4.6006064],\n",
       "       [ 6.68139  ],\n",
       "       [ 8.762173 ],\n",
       "       [10.842957 ],\n",
       "       [12.923739 ],\n",
       "       [15.004522 ],\n",
       "       [17.085306 ],\n",
       "       [19.16609  ],\n",
       "       [21.246874 ]], dtype=float32)"
      ]
     },
     "execution_count": 16,
     "metadata": {},
     "output_type": "execute_result"
    }
   ],
   "source": [
    "predicted = model(Variable(torch.from_numpy(x_train))).data.numpy()\n",
    "predicted"
   ]
  },
  {
   "cell_type": "code",
   "execution_count": 17,
   "metadata": {},
   "outputs": [
    {
     "data": {
      "text/plain": [
       "array([[ 1.],\n",
       "       [ 3.],\n",
       "       [ 5.],\n",
       "       [ 7.],\n",
       "       [ 9.],\n",
       "       [11.],\n",
       "       [13.],\n",
       "       [15.],\n",
       "       [17.],\n",
       "       [19.],\n",
       "       [21.]], dtype=float32)"
      ]
     },
     "execution_count": 17,
     "metadata": {},
     "output_type": "execute_result"
    }
   ],
   "source": [
    "y_train"
   ]
  },
  {
   "cell_type": "code",
   "execution_count": 25,
   "metadata": {},
   "outputs": [],
   "source": [
    "import matplotlib.pyplot as plt"
   ]
  },
  {
   "cell_type": "code",
   "execution_count": 26,
   "metadata": {},
   "outputs": [
    {
     "data": {
      "text/plain": [
       "<Figure size 432x288 with 0 Axes>"
      ]
     },
     "metadata": {},
     "output_type": "display_data"
    }
   ],
   "source": [
    "plt.clf()"
   ]
  },
  {
   "cell_type": "code",
   "execution_count": 27,
   "metadata": {},
   "outputs": [
    {
     "data": {
      "text/plain": [
       "[<matplotlib.lines.Line2D at 0x10e54e470>]"
      ]
     },
     "execution_count": 27,
     "metadata": {},
     "output_type": "execute_result"
    },
    {
     "data": {
      "image/png": "[encoded data removed]",
      "text/plain": [
       "<Figure size 432x288 with 1 Axes>"
      ]
     },
     "metadata": {},
     "output_type": "display_data"
    }
   ],
   "source": [
    "plt.plot(x_train, y_train, 'go', label=\"True data\", alpha=0.5)\n",
    "plt.plot(x_train, predicted, '--', label=\"Predictions\", alpha=0.5)\n"
   ]
  },
  {
   "cell_type": "code",
   "execution_count": 28,
   "metadata": {},
   "outputs": [],
   "source": [
    "### Save model"
   ]
  },
  {
   "cell_type": "code",
   "execution_count": null,
   "metadata": {},
   "outputs": [],
   "source": []
  },
  {
   "cell_type": "code",
   "execution_count": null,
   "metadata": {},
   "outputs": [],
   "source": []
  }
 ],
 "metadata": {
  "kernelspec": {
   "display_name": "Python 3",
   "language": "python",
   "name": "python3"
  },
  "language_info": {
   "codemirror_mode": {
    "name": "ipython",
    "version": 3
   },
   "file_extension": ".py",
   "mimetype": "text/x-python",
   "name": "python",
   "nbconvert_exporter": "python",
   "pygments_lexer": "ipython3",
   "version": "3.6.5"
  }
 },
 "nbformat": 4,
 "nbformat_minor": 2
}
