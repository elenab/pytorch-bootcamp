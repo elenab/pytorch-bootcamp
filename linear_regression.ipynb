{
 "cells": [
  {
   "cell_type": "code",
   "execution_count": 2,
   "metadata": {},
   "outputs": [],
   "source": [
    "import torch\n",
    "import torch.nn as nn\n",
    "from torch.autograd import Variable\n",
    "import numpy as np\n"
   ]
  },
  {
   "cell_type": "code",
   "execution_count": 3,
   "metadata": {},
   "outputs": [],
   "source": [
    "\n",
    "x_values = [i for i in range(11)]\n",
    "x_train = np.array(x_values, dtype=np.float32)\n",
    "x_train = x_train.reshape(-1, 1)\n",
    "\n",
    "y_values = [2*i + 1 for i in x_values]\n",
    "y_train = np.array(y_values, dtype=np.float32)\n",
    "y_train = y_train.reshape(-1, 1)\n"
   ]
  },
  {
   "cell_type": "code",
   "execution_count": 38,
   "metadata": {},
   "outputs": [],
   "source": [
    "\n",
    "class LinearRegressionModel(nn.Module):\n",
    "    def __init__(self, input_dim, output_dim):\n",
    "        super(LinearRegressionModel, self).__init__()\n",
    "        self.linear = nn.Linear(input_dim, output_dim)  \n",
    "    \n",
    "    def forward(self, x):\n",
    "        out = self.linear(x)\n",
    "        return out\n",
    "\n",
    "input_dim = 1\n",
    "output_dim = 1\n",
    "\n",
    "model = LinearRegressionModel(input_dim, output_dim)"
   ]
  },
  {
   "cell_type": "code",
   "execution_count": 39,
   "metadata": {},
   "outputs": [],
   "source": [
    "criterion = nn.MSELoss()\n",
    "learning_rate = 0.01\n",
    "optimizer = torch.optim.SGD(model.parameters(), lr=learning_rate)"
   ]
  },
  {
   "cell_type": "code",
   "execution_count": 40,
   "metadata": {},
   "outputs": [
    {
     "name": "stdout",
     "output_type": "stream",
     "text": [
      "epoch 1, loss 198.3993377685547\n",
      "epoch 2, loss 16.187885284423828\n",
      "epoch 3, loss 1.3254139423370361\n",
      "epoch 4, loss 0.11307360231876373\n",
      "epoch 5, loss 0.01413132343441248\n",
      "epoch 6, loss 0.006006197072565556\n",
      "epoch 7, loss 0.005289250519126654\n",
      "epoch 8, loss 0.005177152808755636\n",
      "epoch 9, loss 0.005115052219480276\n",
      "epoch 10, loss 0.005057540722191334\n",
      "epoch 11, loss 0.005001050885766745\n",
      "epoch 12, loss 0.004945192486047745\n",
      "epoch 13, loss 0.004889948293566704\n",
      "epoch 14, loss 0.0048353420570492744\n",
      "epoch 15, loss 0.004781366791576147\n",
      "epoch 16, loss 0.00472798477858305\n",
      "epoch 17, loss 0.004675151314586401\n",
      "epoch 18, loss 0.004622954875230789\n",
      "epoch 19, loss 0.004571341909468174\n",
      "epoch 20, loss 0.004520316608250141\n",
      "epoch 21, loss 0.004469841718673706\n",
      "epoch 22, loss 0.004419897682964802\n",
      "epoch 23, loss 0.004370545968413353\n",
      "epoch 24, loss 0.004321733023971319\n",
      "epoch 25, loss 0.004273473750799894\n",
      "epoch 26, loss 0.004225767217576504\n",
      "epoch 27, loss 0.004178569186478853\n",
      "epoch 28, loss 0.004131919704377651\n",
      "epoch 29, loss 0.004085763823240995\n",
      "epoch 30, loss 0.00404014578089118\n",
      "epoch 31, loss 0.003995019011199474\n",
      "epoch 32, loss 0.003950404468923807\n",
      "epoch 33, loss 0.0039062825962901115\n",
      "epoch 34, loss 0.0038626869209110737\n",
      "epoch 35, loss 0.003819549223408103\n",
      "epoch 36, loss 0.0037768823094666004\n",
      "epoch 37, loss 0.003734736004844308\n",
      "epoch 38, loss 0.003692988073453307\n",
      "epoch 39, loss 0.0036517612170428038\n",
      "epoch 40, loss 0.00361099885776639\n",
      "epoch 41, loss 0.00357068027369678\n",
      "epoch 42, loss 0.0035307863727211952\n",
      "epoch 43, loss 0.003491368144750595\n",
      "epoch 44, loss 0.003452401841059327\n",
      "epoch 45, loss 0.0034138099290430546\n",
      "epoch 46, loss 0.003375696949660778\n",
      "epoch 47, loss 0.0033379914239048958\n",
      "epoch 48, loss 0.003300752956420183\n",
      "epoch 49, loss 0.0032638716511428356\n",
      "epoch 50, loss 0.003227436449378729\n",
      "epoch 51, loss 0.0031913931015878916\n",
      "epoch 52, loss 0.0031557437032461166\n",
      "epoch 53, loss 0.003120503155514598\n",
      "epoch 54, loss 0.0030856747180223465\n",
      "epoch 55, loss 0.003051217645406723\n",
      "epoch 56, loss 0.0030171514954417944\n",
      "epoch 57, loss 0.0029834432061761618\n",
      "epoch 58, loss 0.002950131893157959\n",
      "epoch 59, loss 0.0029171628411859274\n",
      "epoch 60, loss 0.0028846203349530697\n",
      "epoch 61, loss 0.002852401928976178\n",
      "epoch 62, loss 0.002820527646690607\n",
      "epoch 63, loss 0.002789041493088007\n",
      "epoch 64, loss 0.002757907845079899\n",
      "epoch 65, loss 0.002727104350924492\n",
      "epoch 66, loss 0.0026966535951942205\n",
      "epoch 67, loss 0.002666544634848833\n",
      "epoch 68, loss 0.002636766992509365\n",
      "epoch 69, loss 0.0026073274202644825\n",
      "epoch 70, loss 0.0025782056618481874\n",
      "epoch 71, loss 0.0025494250003248453\n",
      "epoch 72, loss 0.0025209421291947365\n",
      "epoch 73, loss 0.0024928066413849592\n",
      "epoch 74, loss 0.002464959165081382\n",
      "epoch 75, loss 0.0024374262429773808\n",
      "epoch 76, loss 0.002410212764516473\n",
      "epoch 77, loss 0.0023833129089325666\n",
      "epoch 78, loss 0.0023566954769194126\n",
      "epoch 79, loss 0.0023303600028157234\n",
      "epoch 80, loss 0.002304330002516508\n",
      "epoch 81, loss 0.002278608502820134\n",
      "epoch 82, loss 0.0022531745489686728\n",
      "epoch 83, loss 0.0022280302364379168\n",
      "epoch 84, loss 0.0022031355183571577\n",
      "epoch 85, loss 0.0021785444114357233\n",
      "epoch 86, loss 0.002154207555577159\n",
      "epoch 87, loss 0.0021301587112247944\n",
      "epoch 88, loss 0.0021063454914838076\n",
      "epoch 89, loss 0.002082833321765065\n",
      "epoch 90, loss 0.002059588208794594\n",
      "epoch 91, loss 0.0020365803502500057\n",
      "epoch 92, loss 0.0020138327963650227\n",
      "epoch 93, loss 0.0019913434516638517\n",
      "epoch 94, loss 0.0019691043999046087\n",
      "epoch 95, loss 0.001947124139405787\n",
      "epoch 96, loss 0.0019253722857683897\n",
      "epoch 97, loss 0.0019038751488551497\n",
      "epoch 98, loss 0.0018826272571459413\n",
      "epoch 99, loss 0.0018615912413224578\n",
      "epoch 100, loss 0.0018408168107271194\n"
     ]
    },
    {
     "name": "stderr",
     "output_type": "stream",
     "text": [
      "/anaconda3/lib/python3.6/site-packages/ipykernel_launcher.py:25: UserWarning: invalid index of a 0-dim tensor. This will be an error in PyTorch 0.5. Use tensor.item() to convert a 0-dim tensor to a Python number\n"
     ]
    }
   ],
   "source": [
    "epochs = 100\n",
    "for epoch in range(epochs):\n",
    "    epoch += 1\n",
    "    # Convert numpy array to torch Variable\n",
    "\n",
    "    inputs = Variable(torch.from_numpy(x_train))\n",
    "    labels = Variable(torch.from_numpy(y_train))\n",
    "        \n",
    "    # Clear gradients w.r.t. parameters\n",
    "    optimizer.zero_grad() \n",
    "    \n",
    "    # Forward to get output\n",
    "    outputs = model(inputs)\n",
    "    \n",
    "    # Calculate Loss\n",
    "    loss = criterion(outputs, labels)\n",
    "    \n",
    "    # Getting gradients w.r.t. parameters\n",
    "    loss.backward()\n",
    "    \n",
    "    # Updating parameters\n",
    "    optimizer.step()\n",
    "    \n",
    "    # Logging\n",
    "    print('epoch {}, loss {}'.format(epoch, loss.data[0]))"
   ]
  },
  {
   "cell_type": "code",
   "execution_count": 37,
   "metadata": {},
   "outputs": [
    {
     "name": "stdout",
     "output_type": "stream",
     "text": [
      "tensor(0.0909, grad_fn=<MseLossBackward>)\n"
     ]
    }
   ],
   "source": [
    "print(loss)"
   ]
  },
  {
   "cell_type": "code",
   "execution_count": 16,
   "metadata": {},
   "outputs": [
    {
     "data": {
      "text/plain": [
       "array([[ 0.4390395],\n",
       "       [ 2.5198228],\n",
       "       [ 4.6006064],\n",
       "       [ 6.68139  ],\n",
       "       [ 8.762173 ],\n",
       "       [10.842957 ],\n",
       "       [12.923739 ],\n",
       "       [15.004522 ],\n",
       "       [17.085306 ],\n",
       "       [19.16609  ],\n",
       "       [21.246874 ]], dtype=float32)"
      ]
     },
     "execution_count": 16,
     "metadata": {},
     "output_type": "execute_result"
    }
   ],
   "source": [
    "predicted = model(Variable(torch.from_numpy(x_train))).data.numpy()\n",
    "predicted"
   ]
  },
  {
   "cell_type": "code",
   "execution_count": 17,
   "metadata": {},
   "outputs": [
    {
     "data": {
      "text/plain": [
       "array([[ 1.],\n",
       "       [ 3.],\n",
       "       [ 5.],\n",
       "       [ 7.],\n",
       "       [ 9.],\n",
       "       [11.],\n",
       "       [13.],\n",
       "       [15.],\n",
       "       [17.],\n",
       "       [19.],\n",
       "       [21.]], dtype=float32)"
      ]
     },
     "execution_count": 17,
     "metadata": {},
     "output_type": "execute_result"
    }
   ],
   "source": [
    "y_train"
   ]
  },
  {
   "cell_type": "code",
   "execution_count": 25,
   "metadata": {},
   "outputs": [],
   "source": [
    "import matplotlib.pyplot as plt"
   ]
  },
  {
   "cell_type": "code",
   "execution_count": 26,
   "metadata": {},
   "outputs": [
    {
     "data": {
      "text/plain": [
       "<Figure size 432x288 with 0 Axes>"
      ]
     },
     "metadata": {},
     "output_type": "display_data"
    }
   ],
   "source": [
    "plt.clf()"
   ]
  },
  {
   "cell_type": "code",
   "execution_count": 27,
   "metadata": {},
   "outputs": [
    {
     "data": {
      "text/plain": [
       "[<matplotlib.lines.Line2D at 0x10e54e470>]"
      ]
     },
     "execution_count": 27,
     "metadata": {},
     "output_type": "execute_result"
    },
    {
     "data": {
      "image/png": "[encoded data removed]",
      "text/plain": [
       "<Figure size 432x288 with 1 Axes>"
      ]
     },
     "metadata": {},
     "output_type": "display_data"
    }
   ],
   "source": [
    "plt.plot(x_train, y_train, 'go', label=\"True data\", alpha=0.5)\n",
    "plt.plot(x_train, predicted, '--', label=\"Predictions\", alpha=0.5)\n"
   ]
  },
  {
   "cell_type": "markdown",
   "metadata": {},
   "source": [
    "### Save model"
   ]
  },
  {
   "cell_type": "code",
   "execution_count": 30,
   "metadata": {},
   "outputs": [],
   "source": [
    "torch.save(model.state_dict(), 'test1.pkl')"
   ]
  },
  {
   "cell_type": "code",
   "execution_count": null,
   "metadata": {},
   "outputs": [],
   "source": []
  },
  {
   "cell_type": "code",
   "execution_count": 31,
   "metadata": {},
   "outputs": [],
   "source": [
    "model.load_state_dict(torch.load('test1.pkl'))"
   ]
  },
  {
   "cell_type": "code",
   "execution_count": 32,
   "metadata": {},
   "outputs": [
    {
     "name": "stdout",
     "output_type": "stream",
     "text": [
      "LinearRegressionModel(\n",
      "  (linear): Linear(in_features=1, out_features=1, bias=True)\n",
      ")\n"
     ]
    }
   ],
   "source": [
    "print(model)"
   ]
  },
  {
   "cell_type": "code",
   "execution_count": 33,
   "metadata": {},
   "outputs": [
    {
     "data": {
      "text/plain": [
       "OrderedDict([('linear.weight', tensor([[2.0808]])),\n",
       "             ('linear.bias', tensor([0.4390]))])"
      ]
     },
     "execution_count": 33,
     "metadata": {},
     "output_type": "execute_result"
    }
   ],
   "source": [
    "model.state_dict()"
   ]
  },
  {
   "cell_type": "code",
   "execution_count": null,
   "metadata": {},
   "outputs": [],
   "source": []
  }
 ],
 "metadata": {
  "kernelspec": {
   "display_name": "Python 3",
   "language": "python",
   "name": "python3"
  },
  "language_info": {
   "codemirror_mode": {
    "name": "ipython",
    "version": 3
   },
   "file_extension": ".py",
   "mimetype": "text/x-python",
   "name": "python",
   "nbconvert_exporter": "python",
   "pygments_lexer": "ipython3",
   "version": "3.6.5"
  }
 },
 "nbformat": 4,
 "nbformat_minor": 2
}
